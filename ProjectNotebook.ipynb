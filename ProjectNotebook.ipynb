{
 "cells": [
  {
   "cell_type": "markdown",
   "metadata": {},
   "source": [
    "# Project Description"
   ]
  },
  {
   "cell_type": "markdown",
   "metadata": {},
   "source": [
    "Vaidehi Bhavaraju\n",
    "\n",
    "Version 1.0.0, initial release\n",
    "\n",
    "Hello, welcome to my project! I wanted to create a project that could be useful for at-home monitoring of vitals. This project contains a Chatbot known as Healthbot, which will allow a user to test their blood pressure, heartrate, and blood glucose against expected ranges given the user's age and gender. Additionally, the user can plot their blood pressure to visualize where their numbers lie against average expected values. Run the second cell below with the code 'from scripts import my_script' to launch the chatbot and try it out!\n",
    "\n",
    "Notes:\n",
    "\n",
    "Blood pressure data sourced from: https://www.medicinenet.com/blood_pressure_chart_reading_by_age/article.htm and https://www.baptisthealth.com/blog/heart-care/healthy-blood-pressure-by-age-and-gender-chart\n",
    "\n",
    "Heartrate data sourced from: https://www.verywellfit.com/resting-heart-rate-3432632\n",
    "\n",
    "Glucose data sourced from: https://www.forbes.com/health/wellness/normal-blood-sugar-levels/\n",
    "\n",
    "\n",
    "ChatGPT was used for understanding how to create a general seaborn/matplotlib violin plot. ChatGPT's code for a general plot with a random database was edited and restructured to make it applicable to my data, to add user values to the plot, and to combine 2 plots together (to see both systolic and diastolic bp on the plot).\n",
    "\n",
    "The information about vitals should be not be used as health advice, as there are multiple factors other than sex and age which relate to healthy vitals, and the expected ranges may not be completely accurate."
   ]
  },
  {
   "cell_type": "markdown",
   "metadata": {},
   "source": [
    "## Project Code\n",
    "\n",
    "If it makes sense for your project, you can have code and outputs here in the notebook as well."
   ]
  },
  {
   "cell_type": "code",
   "execution_count": null,
   "metadata": {},
   "outputs": [],
   "source": [
    "# Import necessary packages\n",
    "%matplotlib inline\n",
    "import pandas as pd\n",
    "import numpy as np\n",
    "import seaborn as sns\n",
    "import matplotlib.pyplot as plt\n",
    "from my_module.functions import greet_user, vitals_result, plot_bp, color_text\n",
    "from my_module.test_functions import test_greeting, test_color_text, test_vitals_result, test_plot_bp"
   ]
  },
  {
   "cell_type": "code",
   "execution_count": null,
   "metadata": {},
   "outputs": [],
   "source": [
    "# Run the chatbot here!\n",
    "from scripts import my_script"
   ]
  },
  {
   "cell_type": "code",
   "execution_count": null,
   "metadata": {},
   "outputs": [],
   "source": [
    "## test it out\n",
    "test_greeting()\n",
    "test_vitals_result()\n",
    "test_plot_bp()\n",
    "test_color_text()"
   ]
  },
  {
   "cell_type": "markdown",
   "metadata": {},
   "source": [
    "#### Extra Credit (*optional*)\n",
    "\n",
    "COGS18 is my first coding class in any language. I challenged myself in this project to learn how to make the seaborn/matplotlib plots, and how to give visual cues by coloring the outputs to be red if the user's values are out of range and green if they are in range. I was also challenged by making a nested dictionary (instead of multiple dictionaries) and looping through the dictionary to find necessary values."
   ]
  }
 ],
 "metadata": {
  "kernelspec": {
   "display_name": "Python 3 (ipykernel)",
   "language": "python",
   "name": "python3"
  },
  "language_info": {
   "codemirror_mode": {
    "name": "ipython",
    "version": 3
   },
   "file_extension": ".py",
   "mimetype": "text/x-python",
   "name": "python",
   "nbconvert_exporter": "python",
   "pygments_lexer": "ipython3",
   "version": "3.11.7"
  }
 },
 "nbformat": 4,
 "nbformat_minor": 4
}
